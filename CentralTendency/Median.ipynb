{
 "cells": [
  {
   "cell_type": "markdown",
   "id": "c08d59af",
   "metadata": {},
   "source": [
    "# MEDIAN"
   ]
  },
  {
   "cell_type": "markdown",
   "id": "90484e97",
   "metadata": {},
   "source": [
    " Median is used to find the mid value of the data sets or observations \n"
   ]
  },
  {
   "cell_type": "markdown",
   "id": "044a2666",
   "metadata": {},
   "source": [
    "using numpy "
   ]
  },
  {
   "cell_type": "code",
   "execution_count": 2,
   "id": "df7e6281",
   "metadata": {},
   "outputs": [],
   "source": [
    "import numpy as np"
   ]
  },
  {
   "cell_type": "code",
   "execution_count": 3,
   "id": "b61477a2",
   "metadata": {},
   "outputs": [
    {
     "name": "stdout",
     "output_type": "stream",
     "text": [
      "median is: 3.0\n"
     ]
    }
   ],
   "source": [
    "data =[1,2,3,4,5]\n",
    "median = np.median(data)\n",
    "print(\"median is:\",median)"
   ]
  },
  {
   "cell_type": "markdown",
   "id": "01b62555",
   "metadata": {},
   "source": [
    "Here we can see the mid value is 3 and hence we got 3 as answer"
   ]
  },
  {
   "cell_type": "markdown",
   "id": "cbc074fc",
   "metadata": {},
   "source": [
    "\n",
    "###### Note : if we have even number of observations then median should be the mean of the middle two values "
   ]
  },
  {
   "cell_type": "code",
   "execution_count": 13,
   "id": "678c1fb8",
   "metadata": {},
   "outputs": [
    {
     "name": "stdout",
     "output_type": "stream",
     "text": [
      "4.5\n"
     ]
    }
   ],
   "source": [
    "data_even=[2,3,4,5,6,7]\n",
    "median_even=np.median(data_even)\n",
    "print(median_even)"
   ]
  },
  {
   "cell_type": "markdown",
   "id": "d21232e0",
   "metadata": {},
   "source": [
    "using statistics "
   ]
  },
  {
   "cell_type": "code",
   "execution_count": 15,
   "id": "bfd70c00",
   "metadata": {},
   "outputs": [],
   "source": [
    "from statistics import median"
   ]
  },
  {
   "cell_type": "code",
   "execution_count": 16,
   "id": "430c0eaf",
   "metadata": {},
   "outputs": [
    {
     "name": "stdout",
     "output_type": "stream",
     "text": [
      "3\n"
     ]
    }
   ],
   "source": [
    "median_value =median(data)\n",
    "print(median_value)"
   ]
  },
  {
   "cell_type": "code",
   "execution_count": 19,
   "id": "e811907d",
   "metadata": {},
   "outputs": [
    {
     "name": "stdout",
     "output_type": "stream",
     "text": [
      "4.5\n"
     ]
    }
   ],
   "source": [
    "median_value_even=median(data_even)\n",
    "print(median_valu_even)"
   ]
  }
 ],
 "metadata": {
  "kernelspec": {
   "display_name": "Python 3 (ipykernel)",
   "language": "python",
   "name": "python3"
  },
  "language_info": {
   "codemirror_mode": {
    "name": "ipython",
    "version": 3
   },
   "file_extension": ".py",
   "mimetype": "text/x-python",
   "name": "python",
   "nbconvert_exporter": "python",
   "pygments_lexer": "ipython3",
   "version": "3.11.2"
  }
 },
 "nbformat": 4,
 "nbformat_minor": 5
}
