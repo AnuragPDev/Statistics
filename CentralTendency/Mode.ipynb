{
 "cells": [
  {
   "cell_type": "markdown",
   "id": "2a873e59",
   "metadata": {},
   "source": [
    "\n",
    "\n",
    "# Mode "
   ]
  },
  {
   "cell_type": "raw",
   "id": "1001f860",
   "metadata": {},
   "source": [
    "Mode is used to find the most frequent element in the dataset or observations \n",
    "mode are of two type unimodal having only one mode and multimodal "
   ]
  },
  {
   "cell_type": "markdown",
   "id": "0e4f451f",
   "metadata": {},
   "source": [
    "Using Statistics "
   ]
  },
  {
   "cell_type": "code",
   "execution_count": 1,
   "id": "dcd724af",
   "metadata": {},
   "outputs": [],
   "source": [
    "import statistics as sts"
   ]
  },
  {
   "cell_type": "code",
   "execution_count": 9,
   "id": "6a70636f",
   "metadata": {},
   "outputs": [
    {
     "name": "stdout",
     "output_type": "stream",
     "text": [
      "[3]\n"
     ]
    }
   ],
   "source": [
    "#unimodal\n",
    "data =[1,2,2,3,3,3,4,5]\n",
    "mode=sts.multimode(data)\n",
    "print(mode)"
   ]
  },
  {
   "cell_type": "code",
   "execution_count": 14,
   "id": "831a17b0",
   "metadata": {},
   "outputs": [
    {
     "name": "stdout",
     "output_type": "stream",
     "text": [
      "[2, 3]\n"
     ]
    }
   ],
   "source": [
    "#multimodal\n",
    "data1=[1,2,2,3,3,4]\n",
    "mode_value1=sts.multimode(data1)\n",
    "print(mode_value)"
   ]
  },
  {
   "cell_type": "markdown",
   "id": "5d59c8e2",
   "metadata": {},
   "source": [
    "###### Using Numpy "
   ]
  },
  {
   "cell_type": "code",
   "execution_count": 11,
   "id": "e0376542",
   "metadata": {},
   "outputs": [],
   "source": [
    "import numpy as np\n"
   ]
  },
  {
   "cell_type": "raw",
   "id": "648bfd81",
   "metadata": {},
   "source": [
    "Numpy doesnt have mode function to calculate mode we can find using unique function of numpy"
   ]
  }
 ],
 "metadata": {
  "kernelspec": {
   "display_name": "Python 3 (ipykernel)",
   "language": "python",
   "name": "python3"
  },
  "language_info": {
   "codemirror_mode": {
    "name": "ipython",
    "version": 3
   },
   "file_extension": ".py",
   "mimetype": "text/x-python",
   "name": "python",
   "nbconvert_exporter": "python",
   "pygments_lexer": "ipython3",
   "version": "3.11.2"
  }
 },
 "nbformat": 4,
 "nbformat_minor": 5
}
