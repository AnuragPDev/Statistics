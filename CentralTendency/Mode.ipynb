{
 "cells": [
  {
   "cell_type": "markdown",
   "id": "54ef1d7c",
   "metadata": {},
   "source": [
    "\n",
    "\n",
    "# Mode "
   ]
  },
  {
   "cell_type": "raw",
   "id": "4022c296",
   "metadata": {},
   "source": [
    "Mode is used to find the most frequent element in the dataset or observations \n",
    "mode are of two type unimodal having only one mode and multimodal "
   ]
  },
  {
   "cell_type": "markdown",
   "id": "77e1ae87",
   "metadata": {},
   "source": [
    "Using Statistics "
   ]
  },
  {
   "cell_type": "code",
   "execution_count": 1,
   "id": "653f6f33",
   "metadata": {},
   "outputs": [],
   "source": [
    "import statistics as sts"
   ]
  },
  {
   "cell_type": "code",
   "execution_count": 9,
   "id": "6e811979",
   "metadata": {},
   "outputs": [
    {
     "name": "stdout",
     "output_type": "stream",
     "text": [
      "[3]\n"
     ]
    }
   ],
   "source": [
    "#unimodal\n",
    "data =[1,2,2,3,3,3,4,5]\n",
    "mode=sts.multimode(data)\n",
    "print(mode)"
   ]
  },
  {
   "cell_type": "code",
   "execution_count": 14,
   "id": "cde25099",
   "metadata": {},
   "outputs": [
    {
     "name": "stdout",
     "output_type": "stream",
     "text": [
      "[2, 3]\n"
     ]
    }
   ],
   "source": [
    "#multimodal\n",
    "data1=[1,2,2,3,3,4]\n",
    "mode_value1=sts.multimode(data1)\n",
    "print(mode_value)"
   ]
  },
  {
   "cell_type": "markdown",
   "id": "b42f2e83",
   "metadata": {},
   "source": [
    "###### Using Numpy "
   ]
  },
  {
   "cell_type": "code",
   "execution_count": 11,
   "id": "58af28c3",
   "metadata": {},
   "outputs": [],
   "source": [
    "import numpy as np\n"
   ]
  },
  {
   "cell_type": "code",
   "execution_count": 13,
   "id": "e384344c",
   "metadata": {},
   "outputs": [
    {
     "ename": "TypeError",
     "evalue": "remainder() takes from 2 to 3 positional arguments but 1 were given",
     "output_type": "error",
     "traceback": [
      "\u001b[1;31m---------------------------------------------------------------------------\u001b[0m",
      "\u001b[1;31mTypeError\u001b[0m                                 Traceback (most recent call last)",
      "Cell \u001b[1;32mIn[13], line 1\u001b[0m\n\u001b[1;32m----> 1\u001b[0m mode_val\u001b[38;5;241m=\u001b[39m\u001b[43mnp\u001b[49m\u001b[38;5;241;43m.\u001b[39;49m\u001b[43mmod\u001b[49m\u001b[43m(\u001b[49m\u001b[43mdata\u001b[49m\u001b[43m)\u001b[49m\n",
      "\u001b[1;31mTypeError\u001b[0m: remainder() takes from 2 to 3 positional arguments but 1 were given"
     ]
    }
   ],
   "source": [
    "Numpy doesnt have mode function to calculate mode we can find using unique function of numpy"
   ]
  }
 ],
 "metadata": {
  "kernelspec": {
   "display_name": "Python 3 (ipykernel)",
   "language": "python",
   "name": "python3"
  },
  "language_info": {
   "codemirror_mode": {
    "name": "ipython",
    "version": 3
   },
   "file_extension": ".py",
   "mimetype": "text/x-python",
   "name": "python",
   "nbconvert_exporter": "python",
   "pygments_lexer": "ipython3",
   "version": "3.11.2"
  }
 },
 "nbformat": 4,
 "nbformat_minor": 5
}
