{
 "cells": [
  {
   "cell_type": "markdown",
   "id": "f47e0288",
   "metadata": {},
   "source": [
    "\n",
    "\n",
    "# Mode "
   ]
  },
  {
   "cell_type": "markdown",
   "id": "7f4591b1",
   "metadata": {},
   "source": [
    "Mode is used to find the most frequent element in the dataset or observations \n",
    "mode are of two type unimodal having only one mode and multimodal "
   ]
  },
  {
   "cell_type": "markdown",
   "id": "555eb76c",
   "metadata": {},
   "source": [
    "Using Statistics "
   ]
  },
  {
   "cell_type": "code",
   "execution_count": 1,
   "id": "28efbe8d",
   "metadata": {},
   "outputs": [],
   "source": [
    "import statistics as sts"
   ]
  },
  {
   "cell_type": "code",
   "execution_count": 9,
   "id": "2cee36f3",
   "metadata": {},
   "outputs": [
    {
     "name": "stdout",
     "output_type": "stream",
     "text": [
      "[3]\n"
     ]
    }
   ],
   "source": [
    "#unimodal\n",
    "data =[1,2,2,3,3,3,4,5]\n",
    "mode=sts.multimode(data)\n",
    "print(mode)"
   ]
  },
  {
   "cell_type": "code",
   "execution_count": 14,
   "id": "d5459c8b",
   "metadata": {},
   "outputs": [
    {
     "name": "stdout",
     "output_type": "stream",
     "text": [
      "[2, 3]\n"
     ]
    }
   ],
   "source": [
    "#multimodal\n",
    "data1=[1,2,2,3,3,4]\n",
    "mode_value1=sts.multimode(data1)\n",
    "print(mode_value)"
   ]
  },
  {
   "cell_type": "markdown",
   "id": "358b5892",
   "metadata": {},
   "source": [
    "###### Using Numpy "
   ]
  },
  {
   "cell_type": "code",
   "execution_count": 11,
   "id": "6fd7a51a",
   "metadata": {},
   "outputs": [],
   "source": [
    "import numpy as np\n"
   ]
  },
  {
   "cell_type": "markdown",
   "id": "c6bb1086",
   "metadata": {},
   "source": [
    "Numpy doesnt have mode function to calculate mode we can find using unique function of numpy"
   ]
  }
 ],
 "metadata": {
  "kernelspec": {
   "display_name": "Python 3 (ipykernel)",
   "language": "python",
   "name": "python3"
  },
  "language_info": {
   "codemirror_mode": {
    "name": "ipython",
    "version": 3
   },
   "file_extension": ".py",
   "mimetype": "text/x-python",
   "name": "python",
   "nbconvert_exporter": "python",
   "pygments_lexer": "ipython3",
   "version": "3.11.2"
  }
 },
 "nbformat": 4,
 "nbformat_minor": 5
}
