{
 "cells": [
  {
   "cell_type": "code",
   "execution_count": 1,
   "id": "a9f79d13",
   "metadata": {},
   "outputs": [],
   "source": [
    "import statistics as sts"
   ]
  },
  {
   "cell_type": "code",
   "execution_count": 7,
   "id": "60267365",
   "metadata": {},
   "outputs": [
    {
     "name": "stdout",
     "output_type": "stream",
     "text": [
      "mean: 3.5\n"
     ]
    }
   ],
   "source": [
    "# Mean in stats is used to calculate the average of the data sets \n",
    "# observations \n",
    "a=[1,2,3,4,5,6]\n",
    "\n",
    "mean_value = sts.mean(a)\n",
    "print(\"mean:\",mean_value)\n"
   ]
  },
  {
   "cell_type": "markdown",
   "id": "18778f26",
   "metadata": {},
   "source": [
    "##### we can also use numpy library to calculate the mean "
   ]
  },
  {
   "cell_type": "code",
   "execution_count": 8,
   "id": "dbc5a926",
   "metadata": {},
   "outputs": [],
   "source": [
    "import numpy as np"
   ]
  },
  {
   "cell_type": "code",
   "execution_count": 11,
   "id": "7a5b1895",
   "metadata": {},
   "outputs": [],
   "source": [
    "np_array = np.array(a)\n",
    "meanVal = np_array.mean()"
   ]
  },
  {
   "cell_type": "code",
   "execution_count": 12,
   "id": "4d402db8",
   "metadata": {},
   "outputs": [
    {
     "name": "stdout",
     "output_type": "stream",
     "text": [
      "[1 2 3 4 5 6]\n",
      "3.5\n"
     ]
    }
   ],
   "source": [
    "print(np_array)\n",
    "print(meanVal)\n"
   ]
  }
 ],
 "metadata": {
  "kernelspec": {
   "display_name": "Python 3 (ipykernel)",
   "language": "python",
   "name": "python3"
  },
  "language_info": {
   "codemirror_mode": {
    "name": "ipython",
    "version": 3
   },
   "file_extension": ".py",
   "mimetype": "text/x-python",
   "name": "python",
   "nbconvert_exporter": "python",
   "pygments_lexer": "ipython3",
   "version": "3.11.2"
  }
 },
 "nbformat": 4,
 "nbformat_minor": 5
}
